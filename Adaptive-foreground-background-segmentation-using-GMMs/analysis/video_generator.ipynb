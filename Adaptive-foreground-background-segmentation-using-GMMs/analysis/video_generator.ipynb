{
 "cells": [
  {
   "cell_type": "code",
   "execution_count": 40,
   "metadata": {},
   "outputs": [],
   "source": [
    "from segmentizer import Segmentizer\n",
    "from segmentizer.data_loader import LASIESTADataLoader\n",
    "import matplotlib.pyplot as plt\n",
    "import matplotlib.animation as animation\n",
    "import numpy as np\n",
    "from tqdm import tqdm_notebook, tnrange\n",
    "from IPython.display import clear_output\n",
    "import seaborn as sns\n",
    "import pandas as pd\n",
    "import numpy as np\n",
    "from multiprocessing import Pool"
   ]
  },
  {
   "cell_type": "code",
   "execution_count": 45,
   "metadata": {},
   "outputs": [
    {
     "name": "stderr",
     "output_type": "stream",
     "text": [
      "/usr/local/lib/python3.6/site-packages/matplotlib/pyplot.py:522: RuntimeWarning: More than 20 figures have been opened. Figures created through the pyplot interface (`matplotlib.pyplot.figure`) are retained until explicitly closed and may consume too much memory. (To control this warning, see the rcParam `figure.max_open_warning`).\n",
      "  max_open_warning, RuntimeWarning)\n"
     ]
    }
   ],
   "source": [
    "fig = plt.figure()\n",
    "fig.subplots_adjust(left=0, bottom=0, right=1, top=1, wspace=None, hspace=None)\n",
    "plt.axis('off')\n",
    "    \n",
    "def background_to_image(background):\n",
    "    rgb_background = []\n",
    "    for row in background:\n",
    "        rgb_row = []\n",
    "        for val in row:\n",
    "            if val is True:\n",
    "                rgb_row.append([255,255,255])\n",
    "            else:\n",
    "                rgb_row.append([0,0,0])\n",
    "                \n",
    "        rgb_background.append(rgb_row)\n",
    "    \n",
    "    return rgb_background\n",
    "    \n",
    "def _animate(i):\n",
    "    \n",
    "    clear_output(wait=True)\n",
    "    print('Frame: ' + str(i))\n",
    "    \n",
    "    fig.clf()\n",
    "\n",
    "    frame = data_loader.get_next_frame()\n",
    "    segmented_frame = segmentizer.fit_and_predict(frame)\n",
    "    segmented_frame = background_to_image(segmented_frame)\n",
    "\n",
    "    im = plt.imshow(segmented_frame, animated=True, aspect='auto')\n",
    "    \n",
    "    return im,\n",
    "\n",
    "def render_video(data_loader, frames=None):\n",
    "    \n",
    "    data_loader.set_next_frame_idx(0)\n",
    "\n",
    "    if frames is None:\n",
    "        anim = animation.FuncAnimation(fig, _animate, frames=data_loader.get_nr_of_frames()-1)\n",
    "    else:\n",
    "        anim = animation.FuncAnimation(fig, _animate, frames=frames)\n",
    "        \n",
    "    anim.save(data_loader.get_name() + '.mp4', fps=20, extra_args=['-vcodec', 'libx264'])\n",
    "    \n",
    "    print(\"Finished rendering video\")"
   ]
  },
  {
   "cell_type": "code",
   "execution_count": 46,
   "metadata": {},
   "outputs": [
    {
     "name": "stdout",
     "output_type": "stream",
     "text": [
      "Frame: 298\n",
      "Finished rendering video\n"
     ]
    }
   ],
   "source": [
    "data_loader = LASIESTADataLoader('../datasets/I_SI_01', name='I_SI_01')\n",
    "segmentizer = Segmentizer(352,288)\n",
    "render_video(data_loader)"
   ]
  },
  {
   "cell_type": "code",
   "execution_count": 47,
   "metadata": {},
   "outputs": [
    {
     "name": "stdout",
     "output_type": "stream",
     "text": [
      "Frame: 348\n",
      "Finished rendering video\n"
     ]
    }
   ],
   "source": [
    "data_loader = LASIESTADataLoader('../datasets/I_CA_01', name='I_CA_01')\n",
    "segmentizer = Segmentizer(352,288)\n",
    "render_video(data_loader)"
   ]
  },
  {
   "cell_type": "code",
   "execution_count": 48,
   "metadata": {},
   "outputs": [
    {
     "name": "stdout",
     "output_type": "stream",
     "text": [
      "Frame: 298\n",
      "Finished rendering video\n"
     ]
    }
   ],
   "source": [
    "data_loader = LASIESTADataLoader('../datasets/I_IL_01', name='I_IL_01')\n",
    "segmentizer = Segmentizer(352,288)\n",
    "render_video(data_loader)"
   ]
  },
  {
   "cell_type": "code",
   "execution_count": 49,
   "metadata": {},
   "outputs": [
    {
     "name": "stdout",
     "output_type": "stream",
     "text": [
      "Frame: 448\n",
      "Finished rendering video\n"
     ]
    }
   ],
   "source": [
    "data_loader = LASIESTADataLoader('../datasets/I_MB_01', name='I_MB_01')\n",
    "segmentizer = Segmentizer(352,288)\n",
    "render_video(data_loader)"
   ]
  },
  {
   "cell_type": "code",
   "execution_count": 50,
   "metadata": {},
   "outputs": [
    {
     "name": "stdout",
     "output_type": "stream",
     "text": [
      "Frame: 298\n",
      "Finished rendering video\n"
     ]
    }
   ],
   "source": [
    "data_loader = LASIESTADataLoader('../datasets/I_MC_01', name='I_MC_01')\n",
    "segmentizer = Segmentizer(352,288)\n",
    "render_video(data_loader)"
   ]
  },
  {
   "cell_type": "code",
   "execution_count": 51,
   "metadata": {},
   "outputs": [
    {
     "name": "stdout",
     "output_type": "stream",
     "text": [
      "Frame: 248\n",
      "Finished rendering video\n"
     ]
    }
   ],
   "source": [
    "data_loader = LASIESTADataLoader('../datasets/I_OC_01', name='I_OC_01')\n",
    "segmentizer = Segmentizer(352,288)\n",
    "render_video(data_loader)"
   ]
  },
  {
   "cell_type": "code",
   "execution_count": 53,
   "metadata": {},
   "outputs": [
    {
     "name": "stdout",
     "output_type": "stream",
     "text": [
      "Frame: 273\n",
      "Finished rendering video\n"
     ]
    }
   ],
   "source": [
    "data_loader = LASIESTADataLoader('../datasets/I_BS_01', name='I_BS_01')\n",
    "segmentizer = Segmentizer(352,288)\n",
    "render_video(data_loader)"
   ]
  },
  {
   "cell_type": "code",
   "execution_count": 54,
   "metadata": {},
   "outputs": [
    {
     "name": "stdout",
     "output_type": "stream",
     "text": [
      "Frame: 298\n",
      "Finished rendering video\n"
     ]
    }
   ],
   "source": [
    "data_loader = LASIESTADataLoader('../datasets/I_SM_01', name='I_SM_01')\n",
    "segmentizer = Segmentizer(352,288)\n",
    "render_video(data_loader)"
   ]
  },
  {
   "cell_type": "code",
   "execution_count": null,
   "metadata": {},
   "outputs": [],
   "source": []
  }
 ],
 "metadata": {
  "kernelspec": {
   "display_name": "Python 3",
   "language": "python",
   "name": "python3"
  },
  "language_info": {
   "codemirror_mode": {
    "name": "ipython",
    "version": 3
   },
   "file_extension": ".py",
   "mimetype": "text/x-python",
   "name": "python",
   "nbconvert_exporter": "python",
   "pygments_lexer": "ipython3",
   "version": "3.6.4"
  }
 },
 "nbformat": 4,
 "nbformat_minor": 2
}
