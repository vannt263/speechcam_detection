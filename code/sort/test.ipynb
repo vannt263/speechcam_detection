{
 "cells": [
  {
   "cell_type": "code",
   "execution_count": 4,
   "metadata": {},
   "outputs": [
    {
     "name": "stdout",
     "output_type": "stream",
     "text": [
      "Số lượng frame per second (fps) của video là: 25.0\n"
     ]
    }
   ],
   "source": [
    "import cv2\n",
    "\n",
    "cap = cv2.VideoCapture(\"../../data/videoTest.mp4\")\n",
    "ret, frame = cap.read()\n",
    "\n",
    "# Hiển thị ảnh\n",
    "cv2.imshow(\"Image\", frame)\n",
    "\n",
    "# Hàm callback để xử lý sự kiện click chuột\n",
    "def mouse_callback(event, x, y, flags, param):\n",
    "    if event == cv2.EVENT_LBUTTONDOWN:\n",
    "        print(f\"Vị trí click chuột: x = {x}, y = {y}\")\n",
    "\n",
    "# Thiết lập callback cho cửa sổ hiển thị ảnh\n",
    "cv2.setMouseCallback(\"Image\", mouse_callback)\n",
    "\n",
    "# Chờ đến khi người dùng nhấn phím ESC để đóng cửa sổ\n",
    "while True:\n",
    "    key = cv2.waitKey(1)\n",
    "    if key == 27:  # Phím ESC\n",
    "        break\n",
    "\n",
    "# Đóng cửa sổ khi kết thúc\n",
    "cv2.destroyAllWindows()"
   ]
  },
  {
   "cell_type": "code",
   "execution_count": 5,
   "metadata": {},
   "outputs": [
    {
     "data": {
      "text/plain": [
       "350"
      ]
     },
     "execution_count": 5,
     "metadata": {},
     "output_type": "execute_result"
    }
   ],
   "source": [
    "line1 = [(200, 350), (1100, 350)]\n",
    "line1[1][1]"
   ]
  },
  {
   "cell_type": "code",
   "execution_count": 5,
   "metadata": {},
   "outputs": [
    {
     "name": "stdout",
     "output_type": "stream",
     "text": [
      "Current FPS: 30.0\n",
      "Updated FPS: 30.0\n"
     ]
    }
   ],
   "source": [
    "import cv2\n",
    "\n",
    "# Mở luồng video từ file hoặc thiết bị\n",
    "cap = cv2.VideoCapture(\"../../data/cars.mp4\")\n",
    "\n",
    "# Đọc hiện tại FPS\n",
    "current_fps = cap.get(cv2.CAP_PROP_FPS)\n",
    "print(\"Current FPS:\", current_fps)\n",
    "\n",
    "# Đặt FPS mới\n",
    "new_fps = 60\n",
    "cap.set(cv2.CAP_PROP_FPS, new_fps)\n",
    "\n",
    "# Đọc lại FPS sau khi đặt\n",
    "updated_fps = cap.get(cv2.CAP_PROP_FPS)\n",
    "print(\"Updated FPS:\", updated_fps)\n",
    "\n",
    "while cap.isOpened():\n",
    "    # Đọc một frame từ video\n",
    "    ret, frame = cap.read()\n",
    "\n",
    "    # Kiểm tra xem frame đã được đọc thành công hay không\n",
    "    if not ret:\n",
    "        break\n",
    "\n",
    "    # Thực hiện xử lý cho frame ở đây (ví dụ: hiển thị frame)\n",
    "    cv2.imshow('Frame', frame)\n",
    "\n",
    "    # Thoát nếu người dùng nhấn phím 'q'\n",
    "    if cv2.waitKey(33) & 0xFF == ord('q'):\n",
    "        break\n",
    "\n",
    "# Giải phóng tài nguyên khi kết thúc\n",
    "cap.release()\n",
    "cv2.destroyAllWindows()\n"
   ]
  },
  {
   "cell_type": "code",
   "execution_count": 3,
   "metadata": {},
   "outputs": [
    {
     "name": "stdout",
     "output_type": "stream",
     "text": [
      "1704796401.5059805\n",
      "1704796401.5360348\n",
      "Thời gian chạy là 0.030054330825805664 giây.\n"
     ]
    }
   ],
   "source": [
    "import time\n",
    "\n",
    "# Lưu thời điểm bắt đầu\n",
    "start_time = time.time()\n",
    "\n",
    "# Đoạn mã cần đo thời gian chạy\n",
    "for i in range(1000000):\n",
    "    pass\n",
    "\n",
    "# Lưu thời điểm kết thúc\n",
    "end_time = time.time()\n",
    "\n",
    "# Tính thời gian chạy\n",
    "elapsed_time = end_time - start_time\n",
    "print(start_time)\n",
    "print(end_time)\n",
    "print(f\"Thời gian chạy là {elapsed_time} giây.\")"
   ]
  }
 ],
 "metadata": {
  "kernelspec": {
   "display_name": "Python 3",
   "language": "python",
   "name": "python3"
  },
  "language_info": {
   "codemirror_mode": {
    "name": "ipython",
    "version": 3
   },
   "file_extension": ".py",
   "mimetype": "text/x-python",
   "name": "python",
   "nbconvert_exporter": "python",
   "pygments_lexer": "ipython3",
   "version": "3.11.5"
  }
 },
 "nbformat": 4,
 "nbformat_minor": 2
}
