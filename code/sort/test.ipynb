{
 "cells": [
  {
   "cell_type": "code",
   "execution_count": 4,
   "metadata": {},
   "outputs": [
    {
     "name": "stdout",
     "output_type": "stream",
     "text": [
      "Số lượng frame per second (fps) của video là: 25.0\n"
     ]
    }
   ],
   "source": [
    "import cv2\n",
    "\n",
    "def calculate_fps(video_path):\n",
    "    # Mở video file\n",
    "    cap = cv2.VideoCapture(video_path)\n",
    "\n",
    "    # Kiểm tra xem video có được mở không\n",
    "    if not cap.isOpened():\n",
    "        print(\"Không thể mở video.\")\n",
    "        return\n",
    "\n",
    "    # Lấy số lượng frame mỗi giây\n",
    "    fps = cap.get(cv2.CAP_PROP_FPS)\n",
    "    \n",
    "    # Đóng video file\n",
    "    cap.release()\n",
    "\n",
    "    return fps\n",
    "\n",
    "# Thay đổi đường dẫn tới video của bạn\n",
    "video_path = \"../../data/videoTest.mp4\"\n",
    "fps = calculate_fps(video_path)\n",
    "\n",
    "if fps is not None:\n",
    "    print(f\"Số lượng frame per second (fps) của video là: {fps}\")\n"
   ]
  },
  {
   "cell_type": "code",
   "execution_count": 5,
   "metadata": {},
   "outputs": [
    {
     "name": "stdout",
     "output_type": "stream",
     "text": [
      "Current FPS: 30.0\n",
      "Updated FPS: 30.0\n"
     ]
    }
   ],
   "source": [
    "import cv2\n",
    "\n",
    "# Mở luồng video từ file hoặc thiết bị\n",
    "cap = cv2.VideoCapture(\"../../data/cars.mp4\")\n",
    "\n",
    "# Đọc hiện tại FPS\n",
    "current_fps = cap.get(cv2.CAP_PROP_FPS)\n",
    "print(\"Current FPS:\", current_fps)\n",
    "\n",
    "# Đặt FPS mới\n",
    "new_fps = 60\n",
    "cap.set(cv2.CAP_PROP_FPS, new_fps)\n",
    "\n",
    "# Đọc lại FPS sau khi đặt\n",
    "updated_fps = cap.get(cv2.CAP_PROP_FPS)\n",
    "print(\"Updated FPS:\", updated_fps)\n",
    "\n",
    "while cap.isOpened():\n",
    "    # Đọc một frame từ video\n",
    "    ret, frame = cap.read()\n",
    "\n",
    "    # Kiểm tra xem frame đã được đọc thành công hay không\n",
    "    if not ret:\n",
    "        break\n",
    "\n",
    "    # Thực hiện xử lý cho frame ở đây (ví dụ: hiển thị frame)\n",
    "    cv2.imshow('Frame', frame)\n",
    "\n",
    "    # Thoát nếu người dùng nhấn phím 'q'\n",
    "    if cv2.waitKey(33) & 0xFF == ord('q'):\n",
    "        break\n",
    "\n",
    "# Giải phóng tài nguyên khi kết thúc\n",
    "cap.release()\n",
    "cv2.destroyAllWindows()\n"
   ]
  },
  {
   "cell_type": "code",
   "execution_count": 3,
   "metadata": {},
   "outputs": [
    {
     "name": "stdout",
     "output_type": "stream",
     "text": [
      "1704796401.5059805\n",
      "1704796401.5360348\n",
      "Thời gian chạy là 0.030054330825805664 giây.\n"
     ]
    }
   ],
   "source": [
    "import time\n",
    "\n",
    "# Lưu thời điểm bắt đầu\n",
    "start_time = time.time()\n",
    "\n",
    "# Đoạn mã cần đo thời gian chạy\n",
    "for i in range(1000000):\n",
    "    pass\n",
    "\n",
    "# Lưu thời điểm kết thúc\n",
    "end_time = time.time()\n",
    "\n",
    "# Tính thời gian chạy\n",
    "elapsed_time = end_time - start_time\n",
    "print(start_time)\n",
    "print(end_time)\n",
    "print(f\"Thời gian chạy là {elapsed_time} giây.\")"
   ]
  }
 ],
 "metadata": {
  "kernelspec": {
   "display_name": "Python 3",
   "language": "python",
   "name": "python3"
  },
  "language_info": {
   "codemirror_mode": {
    "name": "ipython",
    "version": 3
   },
   "file_extension": ".py",
   "mimetype": "text/x-python",
   "name": "python",
   "nbconvert_exporter": "python",
   "pygments_lexer": "ipython3",
   "version": "3.11.5"
  }
 },
 "nbformat": 4,
 "nbformat_minor": 2
}
