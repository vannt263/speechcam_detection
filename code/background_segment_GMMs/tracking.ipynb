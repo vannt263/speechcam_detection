{
 "cells": [
  {
   "cell_type": "code",
   "execution_count": 9,
   "metadata": {},
   "outputs": [],
   "source": [
    "import math\n",
    "import numpy as np\n",
    "import cv2"
   ]
  },
  {
   "cell_type": "code",
   "execution_count": 16,
   "metadata": {},
   "outputs": [],
   "source": [
    "def custom_top_hat_filter(image, kernel_size):\n",
    "    if len(image.shape) == 3:\n",
    "        gray_image = cv2.cvtColor(image, cv2.COLOR_BGR2GRAY)\n",
    "    else:\n",
    "        gray_image = image\n",
    "\n",
    "    kernel = np.ones(kernel_size, np.uint8)\n",
    "    eroded = cv2.erode(gray_image, kernel, iterations=1)\n",
    "    top_hat = gray_image - eroded\n",
    "\n",
    "    return top_hat"
   ]
  },
  {
   "cell_type": "code",
   "execution_count": 10,
   "metadata": {},
   "outputs": [],
   "source": [
    "def calculate_center(rect):\n",
    "    x, y, w, h = rect\n",
    "    cx = (x + w) // 2\n",
    "    cy = (y + h) // 2\n",
    "    return cx, cy\n"
   ]
  },
  {
   "cell_type": "code",
   "execution_count": 11,
   "metadata": {},
   "outputs": [],
   "source": [
    "def update(objects_rect, center_points, id_count):\n",
    "    objects_bbs_ids = []\n",
    "    new_center_points = {}\n",
    "\n",
    "    for rect in objects_rect:\n",
    "        cx, cy = calculate_center(rect)\n",
    "\n",
    "        same_object_detected = False\n",
    "\n",
    "        for id, pt in center_points.items():\n",
    "            dist = math.hypot(cx - pt[0], cy - pt[1])\n",
    "\n",
    "            if dist < 25:\n",
    "                center_points[id] = (cx, cy)\n",
    "                objects_bbs_ids.append([rect[0], rect[1], rect[2], rect[3], id])\n",
    "                same_object_detected = True\n",
    "                break\n",
    "\n",
    "        if not same_object_detected:\n",
    "            center_points[id_count] = (cx, cy)\n",
    "            objects_bbs_ids.append([rect[0], rect[1], rect[2], rect[3], id_count])\n",
    "            id_count += 1\n",
    "\n",
    "    for obj_bb_id in objects_bbs_ids:\n",
    "        _, _, _, _, object_id = obj_bb_id\n",
    "        center = center_points[object_id]\n",
    "        new_center_points[object_id] = center\n",
    "\n",
    "    center_points = new_center_points.copy()\n",
    "\n",
    "    return objects_bbs_ids, center_points, id_count\n"
   ]
  },
  {
   "cell_type": "code",
   "execution_count": 19,
   "metadata": {},
   "outputs": [
    {
     "ename": "KeyboardInterrupt",
     "evalue": "",
     "output_type": "error",
     "traceback": [
      "\u001b[1;31m---------------------------------------------------------------------------\u001b[0m",
      "\u001b[1;31mKeyboardInterrupt\u001b[0m                         Traceback (most recent call last)",
      "\u001b[1;32md:\\study\\CV\\CK\\code\\speechcam_detection\\object_tracking\\tracking.ipynb Cell 5\u001b[0m line \u001b[0;36m4\n\u001b[0;32m     <a href='vscode-notebook-cell:/d%3A/study/CV/CK/code/speechcam_detection/object_tracking/tracking.ipynb#W3sZmlsZQ%3D%3D?line=40'>41</a>\u001b[0m cv2\u001b[39m.\u001b[39mimshow(\u001b[39m\"\u001b[39m\u001b[39mFrame\u001b[39m\u001b[39m\"\u001b[39m, frame)\n\u001b[0;32m     <a href='vscode-notebook-cell:/d%3A/study/CV/CK/code/speechcam_detection/object_tracking/tracking.ipynb#W3sZmlsZQ%3D%3D?line=41'>42</a>\u001b[0m cv2\u001b[39m.\u001b[39mimshow(\u001b[39m\"\u001b[39m\u001b[39mMask\u001b[39m\u001b[39m\"\u001b[39m, mask)\n\u001b[1;32m---> <a href='vscode-notebook-cell:/d%3A/study/CV/CK/code/speechcam_detection/object_tracking/tracking.ipynb#W3sZmlsZQ%3D%3D?line=43'>44</a>\u001b[0m key \u001b[39m=\u001b[39m cv2\u001b[39m.\u001b[39;49mwaitKey(\u001b[39m30\u001b[39;49m)\n\u001b[0;32m     <a href='vscode-notebook-cell:/d%3A/study/CV/CK/code/speechcam_detection/object_tracking/tracking.ipynb#W3sZmlsZQ%3D%3D?line=44'>45</a>\u001b[0m \u001b[39mif\u001b[39;00m key \u001b[39m==\u001b[39m \u001b[39m27\u001b[39m:\n\u001b[0;32m     <a href='vscode-notebook-cell:/d%3A/study/CV/CK/code/speechcam_detection/object_tracking/tracking.ipynb#W3sZmlsZQ%3D%3D?line=45'>46</a>\u001b[0m     \u001b[39mbreak\u001b[39;00m\n",
      "\u001b[1;31mKeyboardInterrupt\u001b[0m: "
     ]
    }
   ],
   "source": [
    "import cv2\n",
    "\n",
    "# Mở video từ tệp \"highway.mp4\"\n",
    "cap = cv2.VideoCapture(\"highway.mp4\")\n",
    "\n",
    "# Khởi tạo bộ phát hiện đối tượng từ camera ổn định\n",
    "object_detector = cv2.createBackgroundSubtractorMOG2(history=100, varThreshold=40)\n",
    "\n",
    "# Khởi tạo danh sách để lưu trữ tâm của các đối tượng đã được theo dõi và biến đếm ID\n",
    "center_points = {}\n",
    "id_count = 0\n",
    "\n",
    "# Bắt đầu vòng lặp chạy qua video\n",
    "while True:\n",
    "    # Đọc frame từ video\n",
    "    ret, frame = cap.read()\n",
    "    if not ret:\n",
    "        break  # Thoát khỏi vòng lặp nếu hết video\n",
    "\n",
    "    # Lấy kích thước của frame\n",
    "    height, width, _ = frame.shape\n",
    "\n",
    "    # Cắt ra vùng quan tâm (Region of Interest - ROI)\n",
    "    roi = frame[340: 720, 500: 800]\n",
    "\n",
    "    # Bước 1: Phát hiện đối tượng\n",
    "    mask = object_detector.apply(roi)\n",
    "    _, mask = cv2.threshold(mask, 254, 255, cv2.THRESH_BINARY)\n",
    "    contours, _ = cv2.findContours(mask, cv2.RETR_TREE, cv2.CHAIN_APPROX_SIMPLE)\n",
    "    detections = []\n",
    "    for cnt in contours:\n",
    "        # Tính diện tích và loại bỏ các thành phần nhỏ\n",
    "        area = cv2.contourArea(cnt)\n",
    "        if area > 100:\n",
    "            x, y, w, h = cv2.boundingRect(cnt)\n",
    "            detections.append([x, y, w, h])\n",
    "\n",
    "    # Bước 2: Theo dõi đối tượng\n",
    "    boxes_ids, center_points, id_count = update(detections, center_points, id_count)\n",
    "\n",
    "    for box_id in boxes_ids:\n",
    "        x, y, w, h, id = box_id\n",
    "        cv2.putText(roi, str(id), (x, y - 15), cv2.FONT_HERSHEY_PLAIN, 2, (255, 0, 0), 2)\n",
    "        cv2.rectangle(roi, (x, y), (x + w, y + h), (0, 255, 0), 3)\n",
    "\n",
    "    # Hiển thị vùng quan tâm (ROI), khung hình (frame) và mặt nạ (mask)\n",
    "    cv2.imshow(\"roi\", roi)\n",
    "    cv2.imshow(\"Frame\", frame)\n",
    "    cv2.imshow(\"Mask\", mask)\n",
    "\n",
    "    key = cv2.waitKey(30)\n",
    "    if key == 27:\n",
    "        break\n",
    "\n",
    "# Giải phóng tài nguyên và đóng cửa sổ hiển thị\n",
    "cap.release()\n",
    "cv2.destroyAllWindows()\n"
   ]
  },
  {
   "cell_type": "code",
   "execution_count": 1,
   "metadata": {},
   "outputs": [],
   "source": [
    "import cv2\n",
    "\n",
    "# Tạo ba bộ phân đoạn nền sử dụng ba thuật toán khác nhau\n",
    "fgbg2 = cv2.createBackgroundSubtractorMOG2()\n",
    "\n",
    "# Mở video từ tệp tin (thay 'ten_file_video.mp4' bằng đường dẫn đến tệp video của bạn)\n",
    "cap = cv2.VideoCapture('../../object_tracking/highway.mp4')\n",
    "out_path = \"./images\"\n",
    "frame_number = 0  # Biến đếm số frame\n",
    "\n",
    "while True:\n",
    "    ret, frame = cap.read()\n",
    "    if not ret:\n",
    "        break\n",
    "\n",
    "    # Áp dụng mask cho phân đoạn nền\n",
    "    fgmask2 = fgbg2.apply(frame)\n",
    "\n",
    "    # Lưu frame thành tệp ảnh\n",
    "    cv2.imwrite(f'{out_path}/frame_{frame_number:04d}.png', frame)\n",
    "    frame_number += 1\n",
    "\n",
    "    k = cv2.waitKey(30) & 0xff\n",
    "    if k == 27:\n",
    "        break\n",
    "\n",
    "cap.release()\n",
    "\n",
    "cv2.destroyAllWindows()"
   ]
  },
  {
   "cell_type": "code",
   "execution_count": null,
   "metadata": {},
   "outputs": [],
   "source": [
    "import os\n",
    "\n",
    "folder_path = \"./images\"  # Thay đổi đường dẫn đến thư mục của bạn\n",
    "\n",
    "for filename in os.listdir(folder_path):\n",
    "    if filename.endswith(\".jpg\"):\n",
    "        file_path = os.path.join(folder_path, filename)\n",
    "        os.remove(file_path)"
   ]
  }
 ],
 "metadata": {
  "kernelspec": {
   "display_name": "Python 3",
   "language": "python",
   "name": "python3"
  },
  "language_info": {
   "codemirror_mode": {
    "name": "ipython",
    "version": 3
   },
   "file_extension": ".py",
   "mimetype": "text/x-python",
   "name": "python",
   "nbconvert_exporter": "python",
   "pygments_lexer": "ipython3",
   "version": "3.11.5"
  }
 },
 "nbformat": 4,
 "nbformat_minor": 2
}
