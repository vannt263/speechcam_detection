{
 "cells": [
  {
   "cell_type": "code",
   "execution_count": 10,
   "metadata": {},
   "outputs": [],
   "source": [
    "import math\n",
    "import numpy as np\n",
    "import cv2"
   ]
  },
  {
   "cell_type": "code",
   "execution_count": null,
   "metadata": {},
   "outputs": [],
   "source": []
  },
  {
   "cell_type": "code",
   "execution_count": 1,
   "metadata": {},
   "outputs": [],
   "source": [
    "from segmentizer import Segmentizer"
   ]
  },
  {
   "cell_type": "code",
   "execution_count": 2,
   "metadata": {},
   "outputs": [],
   "source": [
    "import cv2\n",
    "import numpy as np"
   ]
  },
  {
   "cell_type": "code",
   "execution_count": 3,
   "metadata": {},
   "outputs": [
    {
     "data": {
      "text/plain": [
       "-1"
      ]
     },
     "execution_count": 3,
     "metadata": {},
     "output_type": "execute_result"
    }
   ],
   "source": [
    "cap = cv2.VideoCapture(\"../../object_tracking/highway.mp4\")\n",
    "\n",
    "# while True:\n",
    "_, frame = cap.read()\n",
    "cv2.imshow(\"Frame\", frame)\n",
    "cv2.waitKey(0)"
   ]
  },
  {
   "cell_type": "code",
   "execution_count": 4,
   "metadata": {},
   "outputs": [
    {
     "data": {
      "text/plain": [
       "(720, 1280, 3)"
      ]
     },
     "execution_count": 4,
     "metadata": {},
     "output_type": "execute_result"
    }
   ],
   "source": [
    "frame.shape"
   ]
  },
  {
   "cell_type": "code",
   "execution_count": 6,
   "metadata": {},
   "outputs": [],
   "source": [
    "segmentizer = Segmentizer(1280, 720)\n",
    "segmented_frame = segmentizer.fit_and_predict(frame)"
   ]
  },
  {
   "cell_type": "code",
   "execution_count": 8,
   "metadata": {},
   "outputs": [],
   "source": [
    "# Convert the segmented_frame to a NumPy array\n",
    "segmented_frame_np = np.array(segmented_frame)\n",
    "\n",
    "# Define color codes for visualization (e.g., black for background, white for foreground)\n",
    "background_color = (0, 0, 0)\n",
    "foreground_color = (255, 255, 255)\n",
    "\n",
    "# Create a mask based on the segmented_frame\n",
    "mask = np.zeros((720, 1280, 3), dtype=np.uint8)\n",
    "\n",
    "# Set the background color (black) for the pixels where segmented_frame_np == 0\n",
    "mask[segmented_frame_np == 0] = background_color\n",
    "\n",
    "# Set the foreground color (white) for the pixels where segmented_frame_np == 1\n",
    "mask[segmented_frame_np == 255] = foreground_color"
   ]
  },
  {
   "cell_type": "code",
   "execution_count": 9,
   "metadata": {},
   "outputs": [],
   "source": [
    "# Display the result using OpenCV\n",
    "cv2.imshow(\"Segmented Frame\", mask)\n",
    "cv2.waitKey(0)\n",
    "cv2.destroyAllWindows()"
   ]
  }
 ],
 "metadata": {
  "kernelspec": {
   "display_name": "Python 3",
   "language": "python",
   "name": "python3"
  },
  "language_info": {
   "codemirror_mode": {
    "name": "ipython",
    "version": 3
   },
   "file_extension": ".py",
   "mimetype": "text/x-python",
   "name": "python",
   "nbconvert_exporter": "python",
   "pygments_lexer": "ipython3",
   "version": "3.11.5"
  }
 },
 "nbformat": 4,
 "nbformat_minor": 2
}
