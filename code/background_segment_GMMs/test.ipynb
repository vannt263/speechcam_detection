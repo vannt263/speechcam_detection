{
 "cells": [
  {
   "cell_type": "code",
   "execution_count": 1,
   "metadata": {},
   "outputs": [],
   "source": [
    "from segmentizer import Segmentizer"
   ]
  },
  {
   "cell_type": "code",
   "execution_count": 8,
   "metadata": {},
   "outputs": [],
   "source": [
    "import cv2\n",
    "import numpy as np"
   ]
  },
  {
   "cell_type": "code",
   "execution_count": 9,
   "metadata": {},
   "outputs": [
    {
     "data": {
      "text/plain": [
       "-1"
      ]
     },
     "execution_count": 9,
     "metadata": {},
     "output_type": "execute_result"
    }
   ],
   "source": [
    "cap = cv2.VideoCapture(\"../../data/number_plates.mp4\")\n",
    "\n",
    "# while True:\n",
    "_, frame = cap.read()\n",
    "cv2.imshow(\"Frame\", frame)\n",
    "cv2.waitKey(0)"
   ]
  },
  {
   "cell_type": "code",
   "execution_count": 10,
   "metadata": {},
   "outputs": [
    {
     "data": {
      "text/plain": [
       "(720, 1280, 3)"
      ]
     },
     "execution_count": 10,
     "metadata": {},
     "output_type": "execute_result"
    }
   ],
   "source": [
    "frame.shape"
   ]
  },
  {
   "cell_type": "code",
   "execution_count": 11,
   "metadata": {},
   "outputs": [
    {
     "ename": "IndexError",
     "evalue": "index 720 is out of bounds for axis 0 with size 720",
     "output_type": "error",
     "traceback": [
      "\u001b[1;31m---------------------------------------------------------------------------\u001b[0m",
      "\u001b[1;31mIndexError\u001b[0m                                Traceback (most recent call last)",
      "\u001b[1;32md:\\study\\computer_vision\\speechcam_detection\\code\\background_segment_GMMs\\test.ipynb Cell 5\u001b[0m line \u001b[0;36m2\n\u001b[0;32m      <a href='vscode-notebook-cell:/d%3A/study/computer_vision/speechcam_detection/code/background_segment_GMMs/test.ipynb#W4sZmlsZQ%3D%3D?line=0'>1</a>\u001b[0m segmentizer \u001b[39m=\u001b[39m Segmentizer(\u001b[39m720\u001b[39m, \u001b[39m1280\u001b[39m)\n\u001b[1;32m----> <a href='vscode-notebook-cell:/d%3A/study/computer_vision/speechcam_detection/code/background_segment_GMMs/test.ipynb#W4sZmlsZQ%3D%3D?line=1'>2</a>\u001b[0m segmented_frame \u001b[39m=\u001b[39m segmentizer\u001b[39m.\u001b[39;49mfit_and_predict(frame)\n",
      "File \u001b[1;32md:\\study\\computer_vision\\speechcam_detection\\code\\background_segment_GMMs\\segmentizer.py:25\u001b[0m, in \u001b[0;36mSegmentizer.fit_and_predict\u001b[1;34m(self, image, init_weight, init_variance, lr)\u001b[0m\n\u001b[0;32m     23\u001b[0m row \u001b[39m=\u001b[39m []\n\u001b[0;32m     24\u001b[0m \u001b[39mfor\u001b[39;00m j \u001b[39min\u001b[39;00m \u001b[39mrange\u001b[39m(\u001b[39mself\u001b[39m\u001b[39m.\u001b[39m_width):\n\u001b[1;32m---> 25\u001b[0m     x \u001b[39m=\u001b[39m image[i,j]\n\u001b[0;32m     26\u001b[0m     \u001b[39mself\u001b[39m\u001b[39m.\u001b[39m_image_model[i][j]\u001b[39m.\u001b[39mfit(x, init_weight, init_variance, lr)\n\u001b[0;32m     27\u001b[0m     row\u001b[39m.\u001b[39mappend(\u001b[39mself\u001b[39m\u001b[39m.\u001b[39m_image_model[i][j]\u001b[39m.\u001b[39mis_background_pixel(x))\n",
      "\u001b[1;31mIndexError\u001b[0m: index 720 is out of bounds for axis 0 with size 720"
     ]
    }
   ],
   "source": [
    "segmentizer = Segmentizer(719, 1279)\n",
    "segmented_frame = segmentizer.fit_and_predict(frame)"
   ]
  },
  {
   "cell_type": "code",
   "execution_count": null,
   "metadata": {},
   "outputs": [],
   "source": []
  }
 ],
 "metadata": {
  "kernelspec": {
   "display_name": "Python 3",
   "language": "python",
   "name": "python3"
  },
  "language_info": {
   "codemirror_mode": {
    "name": "ipython",
    "version": 3
   },
   "file_extension": ".py",
   "mimetype": "text/x-python",
   "name": "python",
   "nbconvert_exporter": "python",
   "pygments_lexer": "ipython3",
   "version": "3.11.5"
  }
 },
 "nbformat": 4,
 "nbformat_minor": 2
}
