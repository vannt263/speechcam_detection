{
 "cells": [
  {
   "cell_type": "code",
   "execution_count": 3,
   "metadata": {},
   "outputs": [],
   "source": [
    "from segmentizer import Segmentizer"
   ]
  },
  {
   "cell_type": "code",
   "execution_count": 19,
   "metadata": {},
   "outputs": [],
   "source": [
    "from lasiesta_dataloader import LASIESTADataLoader"
   ]
  },
  {
   "cell_type": "code",
   "execution_count": 6,
   "metadata": {},
   "outputs": [],
   "source": [
    "import matplotlib.pyplot as plt\n",
    "import matplotlib.animation as animation\n",
    "import numpy as np\n",
    "# from tqdm import tqdm_notebook, tnrange\n",
    "from IPython.display import clear_output\n",
    "import seaborn as sns\n",
    "import pandas as pd\n",
    "import numpy as np"
   ]
  },
  {
   "cell_type": "code",
   "execution_count": 7,
   "metadata": {},
   "outputs": [],
   "source": [
    "from multiprocessing import Pool"
   ]
  },
  {
   "cell_type": "code",
   "execution_count": 8,
   "metadata": {},
   "outputs": [
    {
     "data": {
      "image/png": "[encoded data removed]",
      "text/plain": [
       "<Figure size 640x480 with 1 Axes>"
      ]
     },
     "metadata": {},
     "output_type": "display_data"
    }
   ],
   "source": [
    "fig = plt.figure()\n",
    "fig.subplots_adjust(left=0, bottom=0, right=1, top=1, wspace=None, hspace=None)\n",
    "plt.axis('off')\n",
    "    \n",
    "def background_to_image(background):\n",
    "    rgb_background = []\n",
    "    for row in background:\n",
    "        rgb_row = []\n",
    "        for val in row:\n",
    "            if val is True:\n",
    "                rgb_row.append([255,255,255])\n",
    "            else:\n",
    "                rgb_row.append([0,0,0])\n",
    "                \n",
    "        rgb_background.append(rgb_row)\n",
    "    \n",
    "    return rgb_background\n",
    "    \n",
    "def _animate(i):\n",
    "    \n",
    "    clear_output(wait=True)\n",
    "    print('Frame: ' + str(i))\n",
    "    \n",
    "    fig.clf()\n",
    "\n",
    "    frame = data_loader.get_next_frame()\n",
    "    segmented_frame = segmentizer.fit_and_predict(frame)\n",
    "    segmented_frame = background_to_image(segmented_frame)\n",
    "\n",
    "    im = plt.imshow(segmented_frame, animated=True, aspect='auto')\n",
    "    \n",
    "    return im,\n",
    "\n",
    "def render_video(data_loader, frames=None):\n",
    "    \n",
    "    data_loader.set_next_frame_idx(0)\n",
    "\n",
    "    if frames is None:\n",
    "        anim = animation.FuncAnimation(fig, _animate, frames=data_loader.get_nr_of_frames()-1)\n",
    "    else:\n",
    "        anim = animation.FuncAnimation(fig, _animate, frames=frames)\n",
    "        \n",
    "    anim.save(data_loader.get_name() + '.mp4', fps=20, extra_args=['-vcodec', 'libx264'])\n",
    "    \n",
    "    print(\"Finished rendering video\")"
   ]
  },
  {
   "cell_type": "code",
   "execution_count": 23,
   "metadata": {},
   "outputs": [
    {
     "ename": "NotADirectoryError",
     "evalue": "[WinError 267] The directory name is invalid: '../../data/number_plates.mp4'",
     "output_type": "error",
     "traceback": [
      "\u001b[1;31m---------------------------------------------------------------------------\u001b[0m",
      "\u001b[1;31mNotADirectoryError\u001b[0m                        Traceback (most recent call last)",
      "\u001b[1;32md:\\study\\computer_vision\\speechcam_detection\\code\\background_segment_GMMs\\video_generator.ipynb Cell 6\u001b[0m line \u001b[0;36m1\n\u001b[1;32m----> <a href='vscode-notebook-cell:/d%3A/study/computer_vision/speechcam_detection/code/background_segment_GMMs/video_generator.ipynb#W2sZmlsZQ%3D%3D?line=0'>1</a>\u001b[0m data_loader \u001b[39m=\u001b[39m LASIESTADataLoader(\u001b[39m\"\u001b[39;49m\u001b[39m../../data/number_plates.mp4\u001b[39;49m\u001b[39m\"\u001b[39;49m)\n\u001b[0;32m      <a href='vscode-notebook-cell:/d%3A/study/computer_vision/speechcam_detection/code/background_segment_GMMs/video_generator.ipynb#W2sZmlsZQ%3D%3D?line=1'>2</a>\u001b[0m segmentizer \u001b[39m=\u001b[39m Segmentizer(\u001b[39m1280\u001b[39m, \u001b[39m720\u001b[39m)\n\u001b[0;32m      <a href='vscode-notebook-cell:/d%3A/study/computer_vision/speechcam_detection/code/background_segment_GMMs/video_generator.ipynb#W2sZmlsZQ%3D%3D?line=2'>3</a>\u001b[0m render_video(data_loader)\n",
      "File \u001b[1;32md:\\study\\computer_vision\\speechcam_detection\\code\\background_segment_GMMs\\lasiesta_dataloader.py:16\u001b[0m, in \u001b[0;36mLASIESTADataLoader.__init__\u001b[1;34m(self, original_path, label_path, name)\u001b[0m\n\u001b[0;32m     13\u001b[0m \u001b[39mself\u001b[39m\u001b[39m.\u001b[39m_next_frame_idx \u001b[39m=\u001b[39m \u001b[39m0\u001b[39m\n\u001b[0;32m     14\u001b[0m \u001b[39mself\u001b[39m\u001b[39m.\u001b[39m_name \u001b[39m=\u001b[39m name\n\u001b[1;32m---> 16\u001b[0m original_files \u001b[39m=\u001b[39m os\u001b[39m.\u001b[39mlistdir(original_path)\n\u001b[0;32m     17\u001b[0m original_files\u001b[39m.\u001b[39msort(key\u001b[39m=\u001b[39m\u001b[39mlambda\u001b[39;00m file: \u001b[39mint\u001b[39m(file[file\u001b[39m.\u001b[39mfind(\u001b[39m'\u001b[39m\u001b[39m-\u001b[39m\u001b[39m'\u001b[39m) \u001b[39m+\u001b[39m \u001b[39m1\u001b[39m:file\u001b[39m.\u001b[39mfind(\u001b[39m'\u001b[39m\u001b[39m.\u001b[39m\u001b[39m'\u001b[39m)]))\n\u001b[0;32m     18\u001b[0m \u001b[39mself\u001b[39m\u001b[39m.\u001b[39m_original_files \u001b[39m=\u001b[39m original_files\n",
      "\u001b[1;31mNotADirectoryError\u001b[0m: [WinError 267] The directory name is invalid: '../../data/number_plates.mp4'"
     ]
    }
   ],
   "source": [
    "data_loader = LASIESTADataLoader(\"../../data/number_plates.mp4\")\n",
    "segmentizer = Segmentizer(1280, 720)\n",
    "render_video(data_loader)"
   ]
  }
 ],
 "metadata": {
  "kernelspec": {
   "display_name": "Python 3",
   "language": "python",
   "name": "python3"
  },
  "language_info": {
   "codemirror_mode": {
    "name": "ipython",
    "version": 3
   },
   "file_extension": ".py",
   "mimetype": "text/x-python",
   "name": "python",
   "nbconvert_exporter": "python",
   "pygments_lexer": "ipython3",
   "version": "3.11.5"
  }
 },
 "nbformat": 4,
 "nbformat_minor": 2
}
