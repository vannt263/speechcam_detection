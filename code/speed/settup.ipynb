{
 "cells": [
  {
   "cell_type": "code",
   "execution_count": 1,
   "metadata": {},
   "outputs": [
    {
     "name": "stdout",
     "output_type": "stream",
     "text": [
      "Hãy nhập lại đường dẫn!\n",
      "Hãy nhập lại đường dẫn!\n",
      "Hãy nhập lại đường dẫn!\n",
      "Hãy nhập lại đường dẫn!\n",
      "Hãy nhập lại đường dẫn!\n",
      "Vui lòng chuyển với bước tiếp theo\n"
     ]
    }
   ],
   "source": [
    "import os \n",
    "\n",
    "# Nhập đường dẫn tới video cần demo\n",
    "def check_path(path):\n",
    "    return os.path.exists(path)\n",
    "\n",
    "input_path = input(\"Nhập đường dẫn tới video: \")\n",
    "\n",
    "while True:\n",
    "    if (check_path(input_path)):\n",
    "        # ../../data/video/traffic.mp4\n",
    "        print(\"Vui lòng chuyển với bước tiếp theo\")\n",
    "        break\n",
    "\n",
    "    print(\"Hãy nhập lại đường dẫn!\")\n",
    "    input_path = input(\"Vui lòng nhập lại đường dẫn: \")"
   ]
  },
  {
   "cell_type": "code",
   "execution_count": 2,
   "metadata": {},
   "outputs": [
    {
     "name": "stdout",
     "output_type": "stream",
     "text": [
      "Tọa độ của các điểm:\n",
      "(446, 501)\n",
      "(1281, 494)\n",
      "(446, 673)\n",
      "(1283, 658)\n"
     ]
    }
   ],
   "source": [
    "import cv2\n",
    "import tkinter as tk\n",
    "from tkinter import messagebox\n",
    "\n",
    "cap = cv2.VideoCapture(input_path)\n",
    "ret, frame = cap.read() # frame đầu\n",
    "\n",
    "# sô lần click và các điểm click\n",
    "click_count, points = 0, []\n",
    "\n",
    "def define_mask(event, x, y, flags, param):\n",
    "    global click_count, frame\n",
    "    cv2.imshow(\"Image\", frame)\n",
    "    if event == cv2.EVENT_LBUTTONDOWN:\n",
    "        cv2.putText(frame, f'x={x}, y={y}', (x, y), cv2.FONT_HERSHEY_SIMPLEX, 0.5, (255, 255, 255), 2)\n",
    "        cv2.imshow(\"Image\", frame)\n",
    "        # Lưu tọa độ vào danh sách\n",
    "        points.append((x, y))\n",
    "\n",
    "        click_count += 1 # Tăng biến đếm\n",
    "\n",
    "        # Nếu đã click đủ 4 lần, hiển thị cửa sổ Yes/No\n",
    "        if click_count == 4:\n",
    "            response = messagebox.askyesno(\"Confirmation\", \"Bạn muốn lưu vị trí này không?\")\n",
    "            if response:\n",
    "                cv2.destroyAllWindows()\n",
    "            else:\n",
    "                # Reset các biến và danh sách\n",
    "                ret, frame = cap.read()\n",
    "                click_count = 0\n",
    "                points.clear()\n",
    "                cv2.setMouseCallback(\"Image\", define_mask)\n",
    "\n",
    "cv2.namedWindow(\"Image\")\n",
    "cv2.setMouseCallback(\"Image\", define_mask)\n",
    "\n",
    "# Sử dụng phím ESC để tắt (nếu muốn dừng trước khi click đủ 4 lần)\n",
    "while click_count < 4:\n",
    "    key = cv2.waitKey(1)\n",
    "    if key == 27:  # Phím ESC\n",
    "        break\n",
    "\n",
    "# Hiển thị kết quả tọa độ\n",
    "print(\"Tọa độ của các điểm:\")\n",
    "for point in points:\n",
    "    print(point)\n",
    "\n",
    "# Đóng video\n",
    "cap.release()"
   ]
  },
  {
   "cell_type": "code",
   "execution_count": 3,
   "metadata": {},
   "outputs": [],
   "source": [
    "import numpy as np\n",
    "\n",
    "height, width, channels = frame.shape\n",
    "image = np.zeros((height, width), dtype=np.uint8)\n",
    "\n",
    "sorted_coordinates = sorted(points, key=lambda point: point[0])\n",
    "\n",
    "# Chuyển định dạng mảng NumPy\n",
    "polygon_points = np.array(sorted_coordinates, np.int32)\n",
    "\n",
    "# Tìm Convex Hull\n",
    "hull = cv2.convexHull(polygon_points, clockwise=True)\n",
    "\n",
    "# Fill màu trắng cho toàn bộ đa giác\n",
    "image = cv2.fillConvexPoly(image, hull, color=255)\n",
    "\n",
    "# Hiển thị ảnh\n",
    "cv2.imshow(\"Generated Image\", image)\n",
    "cv2.waitKey(0)\n",
    "cv2.destroyAllWindows()"
   ]
  },
  {
   "cell_type": "code",
   "execution_count": 22,
   "metadata": {},
   "outputs": [
    {
     "name": "stdout",
     "output_type": "stream",
     "text": [
      "Tên tệp tin: videoTest\n"
     ]
    }
   ],
   "source": [
    "# Lấy tên tệp tin từ đường dẫn\n",
    "filename = os.path.basename(input_path)\n",
    "\n",
    "print(\"Tên tệp tin:\", filename[:-4])"
   ]
  },
  {
   "cell_type": "code",
   "execution_count": 23,
   "metadata": {},
   "outputs": [
    {
     "data": {
      "text/plain": [
       "True"
      ]
     },
     "execution_count": 23,
     "metadata": {},
     "output_type": "execute_result"
    }
   ],
   "source": [
    "cv2.imwrite(f\"../data/image/{filename[:-4]}.png\", image)"
   ]
  },
  {
   "cell_type": "code",
   "execution_count": 24,
   "metadata": {},
   "outputs": [],
   "source": [
    "mask = cv2.imread(\"../data/image/videoTest.png\", cv2.IMREAD_GRAYSCALE)"
   ]
  },
  {
   "cell_type": "code",
   "execution_count": 27,
   "metadata": {},
   "outputs": [
    {
     "data": {
      "text/plain": [
       "(720, 1280, 3)"
      ]
     },
     "execution_count": 27,
     "metadata": {},
     "output_type": "execute_result"
    }
   ],
   "source": [
    "frame.shape"
   ]
  },
  {
   "cell_type": "code",
   "execution_count": 28,
   "metadata": {},
   "outputs": [
    {
     "data": {
      "text/plain": [
       "(720, 1280)"
      ]
     },
     "execution_count": 28,
     "metadata": {},
     "output_type": "execute_result"
    }
   ],
   "source": [
    "mask.shape"
   ]
  },
  {
   "cell_type": "code",
   "execution_count": 29,
   "metadata": {},
   "outputs": [],
   "source": [
    "result = cv2.bitwise_and(frame, frame, mask=mask)"
   ]
  },
  {
   "cell_type": "code",
   "execution_count": 30,
   "metadata": {},
   "outputs": [],
   "source": [
    "# Hiển thị ảnh gốc, ảnh mask, và kết quả\n",
    "cv2.imshow(\"Original Frame\", frame)\n",
    "cv2.imshow(\"Mask\", mask)\n",
    "cv2.imshow(\"Result\", result)\n",
    "cv2.waitKey(0)\n",
    "cv2.destroyAllWindows()"
   ]
  },
  {
   "cell_type": "code",
   "execution_count": null,
   "metadata": {},
   "outputs": [],
   "source": [
    "# Vẽ 2 đường line để xác định vận tốc"
   ]
  },
  {
   "cell_type": "code",
   "execution_count": null,
   "metadata": {},
   "outputs": [],
   "source": [
    "# Vẽ 1 đường line để xác định biển số xe"
   ]
  }
 ],
 "metadata": {
  "kernelspec": {
   "display_name": "Python 3",
   "language": "python",
   "name": "python3"
  },
  "language_info": {
   "codemirror_mode": {
    "name": "ipython",
    "version": 3
   },
   "file_extension": ".py",
   "mimetype": "text/x-python",
   "name": "python",
   "nbconvert_exporter": "python",
   "pygments_lexer": "ipython3",
   "version": "3.11.5"
  }
 },
 "nbformat": 4,
 "nbformat_minor": 2
}
